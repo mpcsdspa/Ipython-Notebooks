{
 "cells": [
  {
   "cell_type": "code",
   "execution_count": 1,
   "metadata": {
    "collapsed": false
   },
   "outputs": [
    {
     "name": "stdout",
     "output_type": "stream",
     "text": [
      "[Errno 2] No such file or directory: 'Desktop/PRABHU SIR'\n",
      "/home/mrinalgouda/Ipynbs\n"
     ]
    }
   ],
   "source": [
    "cd Desktop/PRABHU\\ SIR\n"
   ]
  },
  {
   "cell_type": "code",
   "execution_count": 15,
   "metadata": {
    "collapsed": false
   },
   "outputs": [],
   "source": [
    "import numpy as np\n",
    "import matplotlib.pyplot as plt\n",
    "import time"
   ]
  },
  {
   "cell_type": "code",
   "execution_count": 16,
   "metadata": {
    "collapsed": false
   },
   "outputs": [],
   "source": [
    "import SPHA"
   ]
  },
  {
   "cell_type": "code",
   "execution_count": 17,
   "metadata": {
    "collapsed": false
   },
   "outputs": [],
   "source": [
    "time_elapsed = []\n",
    "start_time = time.time()\n",
    "n = 101\n",
    "x = np.mgrid[-1:1:n*1j]\n",
    "f = np.sin(2*np.pi*x)\n",
    "dx = 2.0/100\n",
    "h = dx\n",
    "y = SPHA.sph_approx_new(x, f, h, kernel = SPHA.spline)\n",
    "t = (time.time() - start_time)\n",
    "time_elapsed.append(t)"
   ]
  },
  {
   "cell_type": "code",
   "execution_count": 18,
   "metadata": {
    "collapsed": false
   },
   "outputs": [],
   "source": [
    "start_time = time.time()\n",
    "n = 201\n",
    "x = np.mgrid[-1:1:n*1j]\n",
    "f = np.sin(2*np.pi*x)\n",
    "dx = 2.0/100\n",
    "h = dx\n",
    "y = SPHA.sph_approx_new(x, f, h, kernel = SPHA.spline)\n",
    "t = (time.time() - start_time)\n",
    "time_elapsed.append(t)"
   ]
  },
  {
   "cell_type": "code",
   "execution_count": 19,
   "metadata": {
    "collapsed": false
   },
   "outputs": [],
   "source": [
    "start_time = time.time()\n",
    "n = 301\n",
    "x = np.mgrid[-1:1:n*1j]\n",
    "f = np.sin(2*np.pi*x)\n",
    "dx = 2.0/100\n",
    "h = dx\n",
    "y = SPHA.sph_approx_new(x, f, h, kernel = SPHA.spline)\n",
    "t = (time.time() - start_time)\n",
    "time_elapsed.append(t)"
   ]
  },
  {
   "cell_type": "code",
   "execution_count": 20,
   "metadata": {
    "collapsed": false
   },
   "outputs": [],
   "source": [
    "start_time = time.time()\n",
    "n = 401\n",
    "x = np.mgrid[-1:1:n*1j]\n",
    "f = np.sin(2*np.pi*x)\n",
    "dx = 2.0/100\n",
    "h = dx\n",
    "y = SPHA.sph_approx_new(x, f, h, kernel = SPHA.spline)\n",
    "t = (time.time() - start_time)\n",
    "time_elapsed.append(t)"
   ]
  },
  {
   "cell_type": "code",
   "execution_count": 21,
   "metadata": {
    "collapsed": false
   },
   "outputs": [],
   "source": [
    "start_time = time.time()\n",
    "n = 501\n",
    "x = np.mgrid[-1:1:n*1j]\n",
    "f = np.sin(2*np.pi*x)\n",
    "dx = 2.0/100\n",
    "h = dx\n",
    "y = SPHA.sph_approx_new(x, f, h, kernel = SPHA.spline)\n",
    "t = (time.time() - start_time)\n",
    "time_elapsed.append(t)"
   ]
  },
  {
   "cell_type": "code",
   "execution_count": 22,
   "metadata": {
    "collapsed": false
   },
   "outputs": [],
   "source": [
    "time_elapsed1 = []\n",
    "start_time = time.time()\n",
    "n = 101\n",
    "x = np.mgrid[-1:1:n*1j]\n",
    "f = np.sin(2*np.pi*x)\n",
    "dx = 2.0/100\n",
    "h = dx\n",
    "y = SPHA.sph_approx(x, f, h, kernel = SPHA.spline)\n",
    "t = (time.time() - start_time)\n",
    "time_elapsed1.append(t)"
   ]
  },
  {
   "cell_type": "code",
   "execution_count": 23,
   "metadata": {
    "collapsed": false
   },
   "outputs": [],
   "source": [
    "start_time = time.time()\n",
    "n = 201\n",
    "x = np.mgrid[-1:1:n*1j]\n",
    "f = np.sin(2*np.pi*x)\n",
    "dx = 2.0/100\n",
    "h = dx\n",
    "y = SPHA.sph_approx(x, f, h, kernel = SPHA.spline)\n",
    "t = (time.time() - start_time)\n",
    "time_elapsed1.append(t)"
   ]
  },
  {
   "cell_type": "code",
   "execution_count": 24,
   "metadata": {
    "collapsed": false
   },
   "outputs": [],
   "source": [
    "start_time = time.time()\n",
    "n = 301\n",
    "x = np.mgrid[-1:1:n*1j]\n",
    "f = np.sin(2*np.pi*x)\n",
    "dx = 2.0/100\n",
    "h = dx\n",
    "y = SPHA.sph_approx(x, f, h, kernel = SPHA.spline)\n",
    "t = (time.time() - start_time)\n",
    "time_elapsed1.append(t)"
   ]
  },
  {
   "cell_type": "code",
   "execution_count": 25,
   "metadata": {
    "collapsed": false
   },
   "outputs": [],
   "source": [
    "start_time = time.time()\n",
    "n = 401\n",
    "x = np.mgrid[-1:1:n*1j]\n",
    "f = np.sin(2*np.pi*x)\n",
    "dx = 2.0/100\n",
    "h = dx\n",
    "y = SPHA.sph_approx(x, f, h, kernel = SPHA.spline)\n",
    "t = (time.time() - start_time)\n",
    "time_elapsed1.append(t)"
   ]
  },
  {
   "cell_type": "code",
   "execution_count": 26,
   "metadata": {
    "collapsed": false
   },
   "outputs": [],
   "source": [
    "start_time = time.time()\n",
    "n = 501\n",
    "x = np.mgrid[-1:1:n*1j]\n",
    "f = np.sin(2*np.pi*x)\n",
    "dx = 2.0/100\n",
    "h = dx\n",
    "y = SPHA.sph_approx(x, f, h, kernel = SPHA.spline)\n",
    "t = (time.time() - start_time)\n",
    "time_elapsed1.append(t)"
   ]
  },
  {
   "cell_type": "code",
   "execution_count": 27,
   "metadata": {
    "collapsed": false
   },
   "outputs": [
    {
     "data": {
      "image/png": "[encoded data removed]",
      "text/plain": [
       "<matplotlib.figure.Figure at 0x7f0960038ed0>"
      ]
     },
     "metadata": {},
     "output_type": "display_data"
    }
   ],
   "source": [
    "%matplotlib inline\n",
    "plt.plot(time_elapsed)\n",
    "plt.plot(time_elapsed1)\n",
    "plt.show()"
   ]
  },
  {
   "cell_type": "code",
   "execution_count": 27,
   "metadata": {
    "collapsed": false
   },
   "outputs": [],
   "source": []
  }
 ],
 "metadata": {
  "kernelspec": {
   "display_name": "Python 2",
   "language": "python",
   "name": "python2"
  },
  "language_info": {
   "codemirror_mode": {
    "name": "ipython",
    "version": 2
   },
   "file_extension": ".py",
   "mimetype": "text/x-python",
   "name": "python",
   "nbconvert_exporter": "python",
   "pygments_lexer": "ipython2",
   "version": "2.7.12"
  }
 },
 "nbformat": 4,
 "nbformat_minor": 0
}
