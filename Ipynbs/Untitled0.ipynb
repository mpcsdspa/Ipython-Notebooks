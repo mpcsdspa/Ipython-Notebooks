{
 "metadata": {
  "name": ""
 },
 "nbformat": 3,
 "nbformat_minor": 0,
 "worksheets": [
  {
   "cells": [
    {
     "cell_type": "code",
     "collapsed": false,
     "input": [
      "cd Desktop/PRABHU\\ SIR"
     ],
     "language": "python",
     "metadata": {},
     "outputs": [
      {
       "output_type": "stream",
       "stream": "stdout",
       "text": [
        "/home/mrinalgouda/Desktop/PRABHU SIR\n"
       ]
      }
     ],
     "prompt_number": 1
    },
    {
     "cell_type": "code",
     "collapsed": false,
     "input": [
      "import numpy as np\n",
      "import matplotlib.pyplot as plt"
     ],
     "language": "python",
     "metadata": {},
     "outputs": [],
     "prompt_number": 2
    },
    {
     "cell_type": "code",
     "collapsed": false,
     "input": [
      "from laney import solve_advection"
     ],
     "language": "python",
     "metadata": {},
     "outputs": [],
     "prompt_number": 4
    },
    {
     "cell_type": "code",
     "collapsed": false,
     "input": [
      "n = 41\n",
      "x = np.mgrid[-1:1:n*1j]\n",
      "f = -np.sin(-np.pi*x)"
     ],
     "language": "python",
     "metadata": {},
     "outputs": [],
     "prompt_number": 5
    },
    {
     "cell_type": "code",
     "collapsed": false,
     "input": [
      "from SPHA import sph_approx, gauss"
     ],
     "language": "python",
     "metadata": {},
     "outputs": [],
     "prompt_number": 6
    },
    {
     "cell_type": "code",
     "collapsed": false,
     "input": [
      "dx = 2.0/(n-1)\n",
      "y = sph_approx(x, f, dx, kernel=gauss)"
     ],
     "language": "python",
     "metadata": {},
     "outputs": [],
     "prompt_number": 7
    },
    {
     "cell_type": "code",
     "collapsed": false,
     "input": [
      "plt.plot(x,y,'o')\n",
      "plt.show()"
     ],
     "language": "python",
     "metadata": {},
     "outputs": [
      {
       "metadata": {},
       "output_type": "display_data",
       "png": "[encoded data removed]",
       "text": [
        "<matplotlib.figure.Figure at 0x7fae60c83450>"
       ]
      }
     ],
     "prompt_number": 12
    },
    {
     "cell_type": "markdown",
     "metadata": {},
     "source": [
      "The above plot shows the initial distribution of particles within the domain [-1,1]"
     ]
    },
    {
     "cell_type": "markdown",
     "metadata": {},
     "source": [
      "The above figure depicts the distribution of particles in [-1, 1] at t = 4 seconds."
     ]
    },
    {
     "cell_type": "code",
     "collapsed": false,
     "input": [
      "x1, y1 = solve_advection(x, y, 4.0, 1.0, dx*0.5)\n",
      "plt.plot(x1,y1,'o')\n",
      "plt.show()"
     ],
     "language": "python",
     "metadata": {},
     "outputs": [
      {
       "output_type": "stream",
       "stream": "stdout",
       "text": [
        "[-1.05 -1.   -0.95 -0.9  -0.85 -0.8  -0.75 -0.7  -0.65 -0.6  -0.55 -0.5\n",
        " -0.45 -0.4  -0.35 -0.3  -0.25 -0.2  -0.15 -0.1  -0.05  0.    0.05  0.1\n",
        "  0.15  0.2   0.25  0.3   0.35  0.4   0.45  0.5   0.55  0.6   0.65  0.7\n",
        "  0.75  0.8   0.85  0.9   0.95  1.  ]\n",
        "[ -1.05000000e+00  -1.00000000e+00  -9.50000000e-01  -9.00000000e-01\n",
        "  -8.50000000e-01  -8.00000000e-01  -7.50000000e-01  -7.00000000e-01\n",
        "  -6.50000000e-01  -6.00000000e-01  -5.50000000e-01  -5.00000000e-01\n",
        "  -4.50000000e-01  -4.00000000e-01  -3.50000000e-01  -3.00000000e-01\n",
        "  -2.50000000e-01  -2.00000000e-01  -1.50000000e-01  -1.00000000e-01\n",
        "  -5.00000000e-02  -1.26912370e-14   5.00000000e-02   1.00000000e-01\n",
        "   1.50000000e-01   2.00000000e-01   2.50000000e-01   3.00000000e-01\n",
        "   3.50000000e-01   4.00000000e-01   4.50000000e-01   5.00000000e-01\n",
        "   5.50000000e-01   6.00000000e-01   6.50000000e-01   7.00000000e-01\n",
        "   7.50000000e-01   8.00000000e-01   8.50000000e-01   9.00000000e-01\n",
        "   9.50000000e-01   1.00000000e+00]\n",
        "[  1.57087639e-01  -3.56617845e-02  -1.57128564e-01  -3.07114034e-01\n",
        "  -4.51194776e-01  -5.84176498e-01  -7.02752340e-01  -8.04103748e-01\n",
        "  -8.85589234e-01  -9.45199806e-01  -9.81662376e-01  -9.93903928e-01\n",
        "  -9.81606047e-01  -9.45249039e-01  -8.85519608e-01  -8.04034979e-01\n",
        "  -7.02818559e-01  -5.84165606e-01  -4.51194776e-01  -3.07114034e-01\n",
        "  -1.55471124e-01  -3.16097813e-05   1.55471124e-01   3.07163267e-01\n",
        "   4.51251105e-01   5.84227644e-01   7.02773856e-01   8.04066588e-01\n",
        "   8.85630160e-01   9.45268575e-01   9.81672266e-01   9.93903928e-01\n",
        "   9.81672266e-01   9.45317808e-01   8.85560533e-01   8.04066588e-01\n",
        "   7.02818559e-01   5.84227644e-01   4.51251105e-01   3.07114034e-01\n",
        "   1.57087639e-01  -3.56617845e-02]\n"
       ]
      },
      {
       "metadata": {},
       "output_type": "display_data",
       "png": "[encoded data removed]",
       "text": [
        "<matplotlib.figure.Figure at 0x7fae60943ad0>"
       ]
      }
     ],
     "prompt_number": 20
    },
    {
     "cell_type": "code",
     "collapsed": false,
     "input": [
      "x1, y1 = solve_advection(x, y, 5.4, 1.0, dx)\n",
      "plt.plot(x1,y1,'o')\n",
      "plt.show()"
     ],
     "language": "python",
     "metadata": {},
     "outputs": [
      {
       "output_type": "stream",
       "stream": "stdout",
       "text": [
        "[-1.05 -1.   -0.95 -0.9  -0.85 -0.8  -0.75 -0.7  -0.65 -0.6  -0.55 -0.5\n",
        " -0.45 -0.4  -0.35 -0.3  -0.25 -0.2  -0.15 -0.1  -0.05  0.    0.05  0.1\n",
        "  0.15  0.2   0.25  0.3   0.35  0.4   0.45  0.5   0.55  0.6   0.65  0.7\n",
        "  0.75  0.8   0.85  0.9   0.95  1.  ]\n",
        "[ -1.05000000e+00  -1.00000000e+00  -9.50000000e-01  -9.00000000e-01\n",
        "  -8.50000000e-01  -8.00000000e-01  -7.50000000e-01  -7.00000000e-01\n",
        "  -6.50000000e-01  -6.00000000e-01  -5.50000000e-01  -5.00000000e-01\n",
        "  -4.50000000e-01  -4.00000000e-01  -3.50000000e-01  -3.00000000e-01\n",
        "  -2.50000000e-01  -2.00000000e-01  -1.50000000e-01  -1.00000000e-01\n",
        "  -5.00000000e-02   3.19189120e-16   5.00000000e-02   1.00000000e-01\n",
        "   1.50000000e-01   2.00000000e-01   2.50000000e-01   3.00000000e-01\n",
        "   3.50000000e-01   4.00000000e-01   4.50000000e-01   5.00000000e-01\n",
        "   5.50000000e-01   6.00000000e-01   6.50000000e-01   7.00000000e-01\n",
        "   7.50000000e-01   8.00000000e-01   8.50000000e-01   9.00000000e-01\n",
        "   9.50000000e-01   1.00000000e+00]\n",
        "[ -9.81606047e-01  -9.45249039e-01  -8.85519608e-01  -8.04034979e-01\n",
        "  -7.02818559e-01  -5.84165606e-01  -4.51194776e-01  -3.07114034e-01\n",
        "  -1.55471124e-01  -3.16097813e-05   1.55471124e-01   3.07163267e-01\n",
        "   4.51251105e-01   5.84227644e-01   7.02773856e-01   8.04066588e-01\n",
        "   8.85630160e-01   9.45268575e-01   9.81672266e-01   9.93903928e-01\n",
        "   9.81672266e-01   9.45317808e-01   8.85560533e-01   8.04066588e-01\n",
        "   7.02818559e-01   5.84227644e-01   4.51251105e-01   3.07114034e-01\n",
        "   1.57087639e-01  -3.56617845e-02  -1.57128564e-01  -3.07114034e-01\n",
        "  -4.51194776e-01  -5.84176498e-01  -7.02752340e-01  -8.04103748e-01\n",
        "  -8.85589234e-01  -9.45199806e-01  -9.81662376e-01  -9.93903928e-01\n",
        "  -9.81606047e-01  -9.45249039e-01]\n"
       ]
      },
      {
       "metadata": {},
       "output_type": "display_data",
       "png": "[encoded data removed]",
       "text": [
        "<matplotlib.figure.Figure at 0x7fae60c83590>"
       ]
      }
     ],
     "prompt_number": 21
    },
    {
     "cell_type": "code",
     "collapsed": false,
     "input": [
      "dt = dx*0.5\n",
      "x1, y1 = solve_advection(x, y, 4.0, 1.0, dt)\n",
      "plt.plot(x1,y1,'o')\n",
      "plt.show()"
     ],
     "language": "python",
     "metadata": {},
     "outputs": [
      {
       "output_type": "stream",
       "stream": "stdout",
       "text": [
        "[-1.05 -1.   -0.95 -0.9  -0.85 -0.8  -0.75 -0.7  -0.65 -0.6  -0.55 -0.5\n",
        " -0.45 -0.4  -0.35 -0.3  -0.25 -0.2  -0.15 -0.1  -0.05  0.    0.05  0.1\n",
        "  0.15  0.2   0.25  0.3   0.35  0.4   0.45  0.5   0.55  0.6   0.65  0.7\n",
        "  0.75  0.8   0.85  0.9   0.95  1.  ]\n",
        "[ -1.05000000e+00  -1.00000000e+00  -9.50000000e-01  -9.00000000e-01\n",
        "  -8.50000000e-01  -8.00000000e-01  -7.50000000e-01  -7.00000000e-01\n",
        "  -6.50000000e-01  -6.00000000e-01  -5.50000000e-01  -5.00000000e-01\n",
        "  -4.50000000e-01  -4.00000000e-01  -3.50000000e-01  -3.00000000e-01\n",
        "  -2.50000000e-01  -2.00000000e-01  -1.50000000e-01  -1.00000000e-01\n",
        "  -5.00000000e-02  -1.26912370e-14   5.00000000e-02   1.00000000e-01\n",
        "   1.50000000e-01   2.00000000e-01   2.50000000e-01   3.00000000e-01\n",
        "   3.50000000e-01   4.00000000e-01   4.50000000e-01   5.00000000e-01\n",
        "   5.50000000e-01   6.00000000e-01   6.50000000e-01   7.00000000e-01\n",
        "   7.50000000e-01   8.00000000e-01   8.50000000e-01   9.00000000e-01\n",
        "   9.50000000e-01   1.00000000e+00]\n",
        "[  1.57087639e-01  -3.56617845e-02  -1.57128564e-01  -3.07114034e-01\n",
        "  -4.51194776e-01  -5.84176498e-01  -7.02752340e-01  -8.04103748e-01\n",
        "  -8.85589234e-01  -9.45199806e-01  -9.81662376e-01  -9.93903928e-01\n",
        "  -9.81606047e-01  -9.45249039e-01  -8.85519608e-01  -8.04034979e-01\n",
        "  -7.02818559e-01  -5.84165606e-01  -4.51194776e-01  -3.07114034e-01\n",
        "  -1.55471124e-01  -3.16097813e-05   1.55471124e-01   3.07163267e-01\n",
        "   4.51251105e-01   5.84227644e-01   7.02773856e-01   8.04066588e-01\n",
        "   8.85630160e-01   9.45268575e-01   9.81672266e-01   9.93903928e-01\n",
        "   9.81672266e-01   9.45317808e-01   8.85560533e-01   8.04066588e-01\n",
        "   7.02818559e-01   5.84227644e-01   4.51251105e-01   3.07114034e-01\n",
        "   1.57087639e-01  -3.56617845e-02]\n"
       ]
      },
      {
       "metadata": {},
       "output_type": "display_data",
       "png": "[encoded data removed]",
       "text": [
        "<matplotlib.figure.Figure at 0x7fae60943e90>"
       ]
      }
     ],
     "prompt_number": 22
    },
    {
     "cell_type": "code",
     "collapsed": false,
     "input": [
      "x1, y1 = solve_advection(x, y, 2.0, 1.0, dt)\n",
      "plt.plot(x1,y1,'o')\n",
      "plt.show()"
     ],
     "language": "python",
     "metadata": {},
     "outputs": []
    }
   ],
   "metadata": {}
  }
 ]
}