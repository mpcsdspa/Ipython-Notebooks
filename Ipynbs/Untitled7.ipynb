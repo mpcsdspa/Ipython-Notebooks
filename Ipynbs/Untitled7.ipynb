{
 "metadata": {
  "name": "",
  "signature": "sha256:20500d749bd189e3bb21525292a4cd6f5bbbbe17b30062a7a022c7d80b14445e"
 },
 "nbformat": 3,
 "nbformat_minor": 0,
 "worksheets": []
}